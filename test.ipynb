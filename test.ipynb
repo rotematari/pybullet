{
 "cells": [
  {
   "cell_type": "code",
   "execution_count": null,
   "metadata": {},
   "outputs": [],
   "source": [
    "# ! conda install --yes -c conda-forge pybullet"
   ]
  },
  {
   "cell_type": "code",
   "execution_count": 1,
   "metadata": {},
   "outputs": [
    {
     "ename": "error",
     "evalue": "Cannot load URDF file.",
     "output_type": "error",
     "traceback": [
      "\u001b[1;31m---------------------------------------------------------------------------\u001b[0m",
      "\u001b[1;31merror\u001b[0m                                     Traceback (most recent call last)",
      "\u001b[1;32mc:\\Users\\rotem\\OneDrive\\Desktop\\main\\study\\pybullet\\test.ipynb Cell 2\u001b[0m line \u001b[0;36m1\n\u001b[0;32m      <a href='vscode-notebook-cell:/c%3A/Users/rotem/OneDrive/Desktop/main/study/pybullet/test.ipynb#W4sZmlsZQ%3D%3D?line=7'>8</a>\u001b[0m startPos \u001b[39m=\u001b[39m [\u001b[39m0\u001b[39m,\u001b[39m0\u001b[39m,\u001b[39m1\u001b[39m]\n\u001b[0;32m      <a href='vscode-notebook-cell:/c%3A/Users/rotem/OneDrive/Desktop/main/study/pybullet/test.ipynb#W4sZmlsZQ%3D%3D?line=8'>9</a>\u001b[0m startOrientation \u001b[39m=\u001b[39m p\u001b[39m.\u001b[39mgetQuaternionFromEuler([\u001b[39m0\u001b[39m,\u001b[39m0\u001b[39m,\u001b[39m0\u001b[39m])\n\u001b[1;32m---> <a href='vscode-notebook-cell:/c%3A/Users/rotem/OneDrive/Desktop/main/study/pybullet/test.ipynb#W4sZmlsZQ%3D%3D?line=9'>10</a>\u001b[0m boxId \u001b[39m=\u001b[39m p\u001b[39m.\u001b[39;49mloadURDF(\u001b[39m\"\u001b[39;49m\u001b[39mURDF\u001b[39;49m\u001b[39m\\t\u001b[39;49;00m\u001b[39mest.urdf\u001b[39;49m\u001b[39m\"\u001b[39;49m,startPos, startOrientation)\n\u001b[0;32m     <a href='vscode-notebook-cell:/c%3A/Users/rotem/OneDrive/Desktop/main/study/pybullet/test.ipynb#W4sZmlsZQ%3D%3D?line=10'>11</a>\u001b[0m p\u001b[39m.\u001b[39mstepSimulation()\n\u001b[0;32m     <a href='vscode-notebook-cell:/c%3A/Users/rotem/OneDrive/Desktop/main/study/pybullet/test.ipynb#W4sZmlsZQ%3D%3D?line=11'>12</a>\u001b[0m p\u001b[39m.\u001b[39mgetBasePositionAndOrientation(boxId)\n",
      "\u001b[1;31merror\u001b[0m: Cannot load URDF file."
     ]
    }
   ],
   "source": [
    "\n",
    "import pybullet as p\n",
    "import time\n",
    "import pybullet_data\n",
    "physicsClient = p.connect(p.GUI)#or p.DIRECT for non-graphical version\n",
    "p.setAdditionalSearchPath(pybullet_data.getDataPath()) #optionally\n",
    "p.setGravity(0,0,0)\n",
    "planeId = p.loadURDF(\"plane.urdf\")\n",
    "startPos = [0,0,1]\n",
    "startOrientation = p.getQuaternionFromEuler([0,0,0])\n",
    "boxId = p.loadURDF(\"URDF\\test.urdf\",startPos, startOrientation)\n",
    "p.stepSimulation()\n",
    "p.getBasePositionAndOrientation(boxId)\n"
   ]
  },
  {
   "cell_type": "code",
   "execution_count": 11,
   "metadata": {},
   "outputs": [],
   "source": [
    "maxForce = 500\n",
    "mode = p.POSITION_CONTROL \n",
    "p.setJointMotorControl2(boxId, 20,\n",
    " \tcontrolMode=mode, force=maxForce)\n",
    "for i in range (1000):\n",
    "\tp.stepSimulation()\n",
    "\ttime.sleep(1./240.)\n",
    "\tp.setJointMotorControl2(boxId, 6,controlMode=mode, force=maxForce , targetPosition=10)\n",
    "\n",
    "    \n"
   ]
  }
 ],
 "metadata": {
  "kernelspec": {
   "display_name": "Python 3",
   "language": "python",
   "name": "python3"
  },
  "language_info": {
   "codemirror_mode": {
    "name": "ipython",
    "version": 3
   },
   "file_extension": ".py",
   "mimetype": "text/x-python",
   "name": "python",
   "nbconvert_exporter": "python",
   "pygments_lexer": "ipython3",
   "version": "3.11.5"
  },
  "orig_nbformat": 4
 },
 "nbformat": 4,
 "nbformat_minor": 2
}
